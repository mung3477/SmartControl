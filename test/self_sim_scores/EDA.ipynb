{
 "cells": [
  {
   "cell_type": "markdown",
   "metadata": {},
   "source": [
    "HELLO"
   ]
  },
  {
   "cell_type": "code",
   "execution_count": 113,
   "metadata": {
    "ExecuteTime": {
     "end_time": "2025-02-23T22:11:59.725089Z",
     "start_time": "2025-02-23T22:11:59.721799Z"
    }
   },
   "outputs": [],
   "source": [
    "from typing import List\n",
    "from functools import reduce\n",
    "import pandas as pd\n",
    "pd.set_option('display.max_colwidth', None)"
   ]
  },
  {
   "cell_type": "code",
   "execution_count": 143,
   "metadata": {
    "ExecuteTime": {
     "end_time": "2025-02-23T22:22:15.174442Z",
     "start_time": "2025-02-23T22:22:15.169584Z"
    }
   },
   "outputs": [],
   "source": [
    "def csv2df(csvfile: str):\n",
    "    df = pd.read_csv(csvfile, sep=\"\\t\", header=0)\n",
    "    df = df.sort_values(by=\"score\", ascending=False)\n",
    "    df[\"subject\"] = df[\"name\"].apply(lambda s: s.split(\" - \")[1].split(\" \")[1])\n",
    "    df[\"reference\"] = df[\"name\"].apply(lambda s: s.split(\" - \")[1].split(\" with \")[1].split(\"_\")[0].split(\" focusing \")[0])\n",
    "    df[\"reference_subject\"] = df[\"reference\"].apply(lambda s: s.split(\" is \")[0].split(\" \")[1])\n",
    "    return df"
   ]
  },
  {
   "cell_type": "code",
   "execution_count": 202,
   "metadata": {
    "ExecuteTime": {
     "end_time": "2025-02-23T22:51:20.309947Z",
     "start_time": "2025-02-23T22:51:20.300723Z"
    }
   },
   "outputs": [],
   "source": [
    "def merge_dfs(df1, df2):\n",
    "    if isinstance(df1, pd.DataFrame):\n",
    "        df1.columns=range(len(df1.columns))\n",
    "    return pd.merge(df1, df2, how=\"outer\", on=\"reference\").fillna(0)\n",
    "\n",
    "def count_outliers(csvfiles: List, columns: List[str], threshold: float):\n",
    "    dfs = list(map(\n",
    "            lambda f: f.loc[[score > threshold for score in f[\"score\"]], :].groupby([\"reference\"])[\"score\"].count(),\n",
    "            csvfiles))\n",
    "    \n",
    "    joined = reduce(merge_dfs, dfs)\n",
    "    joined = joined.rename(columns=dict(zip(joined.columns.to_list(), columns)))\n",
    "    joined.loc[\"Total\", :] = joined.sum(axis=0)\n",
    "    joined.loc[:, \"count\"] = joined.sum(axis=1)\n",
    "    joined = joined.sort_values(by=\"count\", ascending=False)\n",
    "    return joined"
   ]
  },
  {
   "cell_type": "markdown",
   "metadata": {},
   "source": [
    "## No Conflict"
   ]
  },
  {
   "cell_type": "code",
   "execution_count": 211,
   "metadata": {
    "ExecuteTime": {
     "end_time": "2025-02-23T23:22:22.337201Z",
     "start_time": "2025-02-23T23:22:22.310972Z"
    }
   },
   "outputs": [],
   "source": [
    "no_conf_ControlNet = csv2df(\"/root/Desktop/workspace/Daewon/SmartControl/test/self_sim_scores/self_sim_no_conflict-ControlNet.csv\")\n",
    "no_conf_SmartControl = csv2df(\"/root/Desktop/workspace/Daewon/SmartControl/test/self_sim_scores/self_sim_no_conflict-SmartControl.csv\")\n",
    "no_conf_ours_verb = csv2df(\"/root/Desktop/workspace/Daewon/SmartControl/test/self_sim_scores/self_sim_no_conflict-ControlAttend-verb.csv\")\n",
    "no_conf_ours_semantics_wo_det = csv2df(\"/root/Desktop/workspace/Daewon/SmartControl/test/self_sim_scores/self_sim_no_conflict-ControlAttend-semantics-without-determiners.csv\")\n",
    "\n",
    "similarities = [no_conf_ControlNet, no_conf_SmartControl, no_conf_ours_semantics, no_conf_ours_semantics_wo_det]\n",
    "columns = [\"CN0.4\", \"SC\", \"Ours_verb\", \"Ours_wo_dets\"]"
   ]
  },
  {
   "cell_type": "code",
   "execution_count": 212,
   "metadata": {
    "ExecuteTime": {
     "end_time": "2025-02-23T23:22:23.334586Z",
     "start_time": "2025-02-23T23:22:23.301359Z"
    }
   },
   "outputs": [
    {
     "name": "stdout",
     "output_type": "stream",
     "text": [
      "###### NO CONFLICT #######\n",
      "                                CN0.4    SC  Ours_verb  Ours_wo_dets  count\n",
      "reference                                                                  \n",
      "Total                            40.0  39.0       86.0          57.0  222.0\n",
      "a dog is jumping                  3.0   3.0        3.0           3.0   12.0\n",
      "a grandpa playing soccer          3.0   3.0        3.0           3.0   12.0\n",
      "a woman holding a guitar          3.0   3.0        3.0           3.0   12.0\n",
      "a cat is running                  3.0   3.0        3.0           2.0   11.0\n",
      "a cat is climbing a tree          2.0   3.0        3.0           3.0   11.0\n",
      "a racoon is jumping               2.0   2.0        3.0           3.0   10.0\n",
      "a child playing soccer            3.0   1.0        3.0           3.0   10.0\n",
      "a grandpa holding a guitar        2.0   2.0        3.0           3.0   10.0\n",
      "the spiderman playing soccer      2.0   1.0        3.0           3.0    9.0\n",
      "a racoon is swimming              2.0   1.0        3.0           2.0    8.0\n",
      "a racoon is climbing a tree       1.0   1.0        3.0           3.0    8.0\n",
      "a cat is jumping                  3.0   2.0        2.0           1.0    8.0\n",
      "a teddy is swimming               1.0   1.0        3.0           2.0    7.0\n",
      "a turtle is jumping               2.0   0.0        3.0           2.0    7.0\n",
      "the spiderman riding a bike       1.0   0.0        3.0           2.0    6.0\n",
      "a child holding a guitar          0.0   3.0        2.0           1.0    6.0\n",
      "a turtle is sitting on a bench    0.0   0.0        3.0           3.0    6.0\n",
      "a teddy is climbing a tree        0.0   0.0        3.0           3.0    6.0\n",
      "a turtle is climbing a tree       0.0   0.0        3.0           3.0    6.0\n",
      "the spiderman holding a guitar    2.0   0.0        2.0           1.0    5.0\n",
      "a cat is sitting on a bench       0.0   0.0        3.0           2.0    5.0\n",
      "a racoon is running               0.0   0.0        3.0           2.0    5.0\n",
      "a turtle is swimming              2.0   2.0        1.0           0.0    5.0\n",
      "a child doing meditation          1.0   1.0        1.0           1.0    4.0\n",
      "a woman arms up                   0.0   3.0        1.0           0.0    4.0\n",
      "a cat is swimming                 0.0   1.0        2.0           1.0    4.0\n",
      "a dog is running                  1.0   1.0        1.0           0.0    3.0\n",
      "a baby arms up                    0.0   2.0        1.0           0.0    3.0\n",
      "a baby holding a guitar           0.0   0.0        2.0           1.0    3.0\n",
      "the spiderman arms up             0.0   0.0        3.0           0.0    3.0\n",
      "a teddy is sitting on a bench     0.0   0.0        3.0           0.0    3.0\n",
      "a racoon is sitting on a bench    0.0   0.0        2.0           1.0    3.0\n",
      "a baby doing meditation           0.0   0.0        2.0           0.0    2.0\n",
      "a dog is climbing a tree          1.0   0.0        1.0           0.0    2.0\n",
      "a dog is sitting on a bench       0.0   0.0        1.0           0.0    1.0\n",
      "a grandpa doing meditation        0.0   0.0        1.0           0.0    1.0\n",
      "a woman doing meditation          0.0   0.0        1.0           0.0    1.0\n"
     ]
    }
   ],
   "source": [
    "outliers = count_outliers(similarities, columns, 0.08)\n",
    "print(\"###### NO CONFLICT #######\")\n",
    "print(outliers)"
   ]
  },
  {
   "cell_type": "markdown",
   "metadata": {},
   "source": [
    "## Mild Conflict"
   ]
  },
  {
   "cell_type": "code",
   "execution_count": 225,
   "metadata": {
    "ExecuteTime": {
     "end_time": "2025-02-24T04:13:58.309677Z",
     "start_time": "2025-02-24T04:13:58.260703Z"
    }
   },
   "outputs": [],
   "source": [
    "mild_conf_ControlNet = csv2df(\"/root/Desktop/workspace/Daewon/SmartControl/test/self_sim_scores/self_sim_mild_conflict-ControlNet.csv\")\n",
    "mild_conf_SmartControl = csv2df(\"/root/Desktop/workspace/Daewon/SmartControl/test/self_sim_scores/self_sim_mild_conflict-SmartControl.csv\")\n",
    "mild_conf_ours_verb = csv2df(\"/root/Desktop/workspace/Daewon/SmartControl/test/self_sim_scores/self_sim_mild_conflict-ControlAttend-verb.csv\")\n",
    "mild_conf_ours_semantics_wo_det = csv2df(\"/root/Desktop/workspace/Daewon/SmartControl/test/self_sim_scores/self_sim_mild_conflict-ControlAttend-semantics-without-determiners.csv\")\n",
    "\n",
    "similarities = [mild_conf_ControlNet, mild_conf_SmartControl, mild_conf_ours_verb, mild_conf_ours_semantics_wo_det]\n",
    "columns = [\"CN0.4\", \"SC\", \"Ours_verb\", \"Ours_wo_dets\"]"
   ]
  },
  {
   "cell_type": "code",
   "execution_count": 226,
   "metadata": {
    "ExecuteTime": {
     "end_time": "2025-02-24T04:13:58.972022Z",
     "start_time": "2025-02-24T04:13:58.923745Z"
    }
   },
   "outputs": [
    {
     "name": "stdout",
     "output_type": "stream",
     "text": [
      "###### MILD CONFLICT #######\n",
      "                                CN0.4     SC  Ours_verb  Ours_wo_dets   count\n",
      "reference                                                                    \n",
      "Total                           211.0  212.0      480.0         349.0  1252.0\n",
      "a dog is jumping                 12.0   12.0       12.0          12.0    48.0\n",
      "a grandpa playing soccer         12.0   11.0       12.0          12.0    47.0\n",
      "a racoon is jumping              12.0   10.0       12.0          12.0    46.0\n",
      "a turtle is jumping              11.0   10.0       12.0          12.0    45.0\n",
      "the spiderman riding a bike      12.0    6.0       12.0          12.0    42.0\n",
      "a cat is running                 12.0   11.0       12.0           7.0    42.0\n",
      "a cat is jumping                 10.0    8.0       12.0          10.0    40.0\n",
      "a teddy is swimming               9.0    8.0       12.0          11.0    40.0\n",
      "the spiderman playing soccer     11.0    4.0       12.0          12.0    39.0\n",
      "a cat is climbing a tree          4.0   10.0       12.0          12.0    38.0\n",
      "a racoon is climbing a tree       6.0    7.0       12.0          12.0    37.0\n",
      "a teddy is jumping                5.0    9.0       12.0           9.0    35.0\n",
      "a racoon is swimming              9.0    5.0        9.0          12.0    35.0\n",
      "a baby arms up                    8.0    8.0       12.0           6.0    34.0\n",
      "a teddy is climbing a tree        6.0    4.0       12.0          12.0    34.0\n",
      "a grandpa holding a guitar        8.0    8.0       10.0           7.0    33.0\n",
      "a teddy is running                5.0    9.0       12.0           7.0    33.0\n",
      "a baby doing meditation           6.0    4.0       12.0          10.0    32.0\n",
      "a racoon is running               9.0    4.0       10.0           9.0    32.0\n",
      "a woman holding a guitar          5.0    5.0       12.0          10.0    32.0\n",
      "the spiderman holding a guitar    2.0    9.0       12.0           9.0    32.0\n",
      "the spiderman arms up             2.0    6.0       12.0          10.0    30.0\n",
      "a child playing soccer            4.0    2.0       12.0          12.0    30.0\n",
      "a dog is climbing a tree          2.0    6.0        9.0          12.0    29.0\n",
      "a baby holding a guitar           6.0    3.0       11.0           8.0    28.0\n",
      "a child holding a guitar          1.0    8.0       10.0           6.0    25.0\n",
      "a teddy is sitting on a bench     1.0    0.0       12.0          12.0    25.0\n",
      "a turtle is climbing a tree       1.0    1.0       12.0          11.0    25.0\n",
      "a turtle is sitting on a bench    0.0    0.0       12.0          12.0    24.0\n",
      "a cat is swimming                 6.0    5.0        4.0           8.0    23.0\n",
      "a racoon is sitting on a bench    0.0    0.0       12.0          10.0    22.0\n",
      "a woman arms up                   1.0    4.0       12.0           5.0    22.0\n",
      "a woman doing meditation          2.0    1.0       12.0           4.0    19.0\n",
      "a grandpa arms up                 3.0    2.0       11.0           3.0    19.0\n",
      "a turtle is running               4.0    0.0       12.0           2.0    18.0\n",
      "a child arms up                   0.0    4.0       11.0           3.0    18.0\n",
      "a cat is sitting on a bench       0.0    0.0       12.0           6.0    18.0\n",
      "a child doing meditation          1.0    2.0       12.0           3.0    18.0\n",
      "a grandpa doing meditation        0.0    0.0       12.0           3.0    15.0\n",
      "a dog is sitting on a bench       0.0    0.0       11.0           3.0    14.0\n",
      "a baby riding a bike              0.0    0.0        7.0           0.0     7.0\n",
      "a turtle is swimming              0.0    2.0        3.0           0.0     5.0\n",
      "the spiderman doing meditation    0.0    0.0        5.0           0.0     5.0\n",
      "a dog is swimming                 1.0    4.0        0.0           0.0     5.0\n",
      "a baby playing soccer             0.0    0.0        4.0           0.0     4.0\n",
      "a woman playing soccer            0.0    0.0        3.0           0.0     3.0\n",
      "a dog is running                  2.0    0.0        0.0           1.0     3.0\n",
      "a child riding a bike             0.0    0.0        1.0           0.0     1.0\n",
      "a woman riding a bike             0.0    0.0        1.0           0.0     1.0\n"
     ]
    }
   ],
   "source": [
    "outliers = count_outliers(similarities, columns, 0.08)\n",
    "print(\"###### MILD CONFLICT #######\")\n",
    "print(outliers)"
   ]
  },
  {
   "cell_type": "markdown",
   "metadata": {},
   "source": [
    "## Significant Conflict"
   ]
  },
  {
   "cell_type": "code",
   "execution_count": 221,
   "metadata": {
    "ExecuteTime": {
     "end_time": "2025-02-24T01:10:14.504978Z",
     "start_time": "2025-02-24T01:10:14.467491Z"
    }
   },
   "outputs": [],
   "source": [
    "sig_conf_ControlNet = csv2df(\"/root/Desktop/workspace/Daewon/SmartControl/test/self_sim_scores/self_sim_significant_conflict-ControlNet.csv\")\n",
    "sig_conf_SmartControl = csv2df(\"/root/Desktop/workspace/Daewon/SmartControl/test/self_sim_scores/self_sim_significant_conflict-SmartControl.csv\")\n",
    "sig_conf_ours_verb = csv2df(\"/root/Desktop/workspace/Daewon/SmartControl/test/self_sim_scores/self_sim_significant_conflict-ControlAttend.csv\")\n",
    "\n",
    "similarities = [sig_conf_ControlNet, sig_conf_SmartControl, sig_conf_ours_verb]\n",
    "columns = [\"CN0.4\", \"SC\", \"Ours_verb\"]"
   ]
  },
  {
   "cell_type": "code",
   "execution_count": 222,
   "metadata": {
    "ExecuteTime": {
     "end_time": "2025-02-24T01:10:15.477436Z",
     "start_time": "2025-02-24T01:10:15.342813Z"
    }
   },
   "outputs": [
    {
     "name": "stdout",
     "output_type": "stream",
     "text": [
      "###### SIGNIFICANT CONFLICT #######\n",
      "                                CN0.4     SC  Ours_verb   count\n",
      "reference                                                      \n",
      "Total                           305.0  303.0      596.0  1204.0\n",
      "a dog is jumping                 15.0   15.0       15.0    45.0\n",
      "a turtle is jumping              15.0   15.0       15.0    45.0\n",
      "a racoon is jumping              15.0   15.0       15.0    45.0\n",
      "a cat is running                 15.0   15.0       15.0    45.0\n",
      "a grandpa playing soccer         15.0   14.0       15.0    44.0\n",
      "a cat is jumping                 14.0   14.0       15.0    43.0\n",
      "a racoon is climbing a tree      14.0   14.0       15.0    43.0\n",
      "a racoon is running              14.0   11.0       15.0    40.0\n",
      "a teddy is climbing a tree       11.0   14.0       15.0    40.0\n",
      "a teddy is swimming              14.0    9.0       15.0    38.0\n",
      "a grandpa holding a guitar       12.0   11.0       15.0    38.0\n",
      "a cat is climbing a tree          8.0   14.0       15.0    37.0\n",
      "a teddy is running               10.0   12.0       15.0    37.0\n",
      "a turtle is climbing a tree       5.0   13.0       15.0    33.0\n",
      "the spiderman playing soccer     13.0    5.0       15.0    33.0\n",
      "a cat is swimming                10.0   11.0       10.0    31.0\n",
      "the spiderman riding a bike      12.0    4.0       15.0    31.0\n",
      "a woman holding a guitar          9.0    6.0       15.0    30.0\n",
      "a turtle is running              12.0    2.0       15.0    29.0\n",
      "a baby arms up                    8.0   10.0       11.0    29.0\n",
      "the spiderman arms up             5.0    8.0       15.0    28.0\n",
      "a teddy is jumping                5.0    8.0       15.0    28.0\n",
      "a baby holding a guitar           8.0    7.0       13.0    28.0\n",
      "a child playing soccer            9.0    3.0       15.0    27.0\n",
      "the spiderman holding a guitar    2.0    9.0       15.0    26.0\n",
      "a grandpa doing meditation        4.0    5.0       15.0    24.0\n",
      "a woman arms up                   1.0    8.0       15.0    24.0\n",
      "a child doing meditation          3.0    4.0       15.0    22.0\n",
      "a child holding a guitar          0.0    6.0       15.0    21.0\n",
      "a baby doing meditation           4.0    1.0       15.0    20.0\n",
      "a dog is climbing a tree          7.0    3.0        9.0    19.0\n",
      "a teddy is sitting on a bench     1.0    1.0       15.0    17.0\n",
      "a turtle is sitting on a bench    1.0    0.0       15.0    16.0\n",
      "a cat is sitting on a bench       0.0    0.0       15.0    15.0\n",
      "a racoon is sitting on a bench    0.0    0.0       15.0    15.0\n",
      "a grandpa arms up                 0.0    4.0       10.0    14.0\n",
      "a racoon is swimming              4.0    2.0        8.0    14.0\n",
      "a dog is running                  7.0    3.0        3.0    13.0\n",
      "a woman doing meditation          1.0    0.0       11.0    12.0\n",
      "a baby riding a bike              0.0    0.0       11.0    11.0\n",
      "a woman playing soccer            0.0    0.0       10.0    10.0\n",
      "a dog is sitting on a bench       0.0    0.0        9.0     9.0\n",
      "a child arms up                   0.0    4.0        5.0     9.0\n",
      "the spiderman doing meditation    0.0    0.0        7.0     7.0\n",
      "a turtle is swimming              2.0    3.0        1.0     6.0\n",
      "a baby playing soccer             0.0    0.0        5.0     5.0\n",
      "a woman riding a bike             0.0    0.0        5.0     5.0\n",
      "a child riding a bike             0.0    0.0        3.0     3.0\n"
     ]
    }
   ],
   "source": [
    "outliers = count_outliers(similarities, columns, 0.08)\n",
    "print(\"###### SIGNIFICANT CONFLICT #######\")\n",
    "print(outliers)"
   ]
  },
  {
   "cell_type": "code",
   "execution_count": null,
   "metadata": {},
   "outputs": [],
   "source": []
  }
 ],
 "metadata": {
  "kernelspec": {
   "display_name": "SmartControl",
   "language": "python",
   "name": "smartcontrol"
  },
  "language_info": {
   "codemirror_mode": {
    "name": "ipython",
    "version": 3
   },
   "file_extension": ".py",
   "mimetype": "text/x-python",
   "name": "python",
   "nbconvert_exporter": "python",
   "pygments_lexer": "ipython3",
   "version": "3.10.12"
  },
  "toc": {
   "base_numbering": 1,
   "nav_menu": {},
   "number_sections": false,
   "sideBar": true,
   "skip_h1_title": false,
   "title_cell": "Table of Contents",
   "title_sidebar": "Contents",
   "toc_cell": false,
   "toc_position": {},
   "toc_section_display": true,
   "toc_window_display": false
  }
 },
 "nbformat": 4,
 "nbformat_minor": 2
}
