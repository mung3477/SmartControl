{
 "cells": [
  {
   "cell_type": "code",
   "execution_count": 1,
   "id": "411c59b3-f177-4a10-8925-d931ce572eaa",
   "metadata": {
    "ExecuteTime": {
     "end_time": "2024-11-04T10:17:21.115145Z",
     "start_time": "2024-11-04T10:17:17.255241Z"
    }
   },
   "outputs": [
    {
     "name": "stderr",
     "output_type": "stream",
     "text": [
      "/workspace/Daewon/SmartControl/.venv/lib/python3.10/site-packages/tqdm/auto.py:21: TqdmWarning: IProgress not found. Please update jupyter and ipywidgets. See https://ipywidgets.readthedocs.io/en/stable/user_install.html\n",
      "  from .autonotebook import tqdm as notebook_tqdm\n",
      "/workspace/Daewon/SmartControl/.venv/lib/python3.10/site-packages/diffusers/utils/outputs.py:63: FutureWarning: `torch.utils._pytree._register_pytree_node` is deprecated. Please use `torch.utils._pytree.register_pytree_node` instead.\n",
      "  torch.utils._pytree._register_pytree_node(\n",
      "/workspace/Daewon/SmartControl/.venv/lib/python3.10/site-packages/diffusers/utils/outputs.py:63: FutureWarning: `torch.utils._pytree._register_pytree_node` is deprecated. Please use `torch.utils._pytree.register_pytree_node` instead.\n",
      "  torch.utils._pytree._register_pytree_node(\n",
      "/workspace/Daewon/SmartControl/.venv/lib/python3.10/site-packages/controlnet_aux/mediapipe_face/mediapipe_face_common.py:7: UserWarning: The module 'mediapipe' is not installed. The package will have limited functionality. Please install it using the command: pip install 'mediapipe'\n",
      "  warnings.warn(\n"
     ]
    }
   ],
   "source": [
    "from diffusers import StableDiffusionControlNetPipeline, ControlNetModel, UniPCMultistepScheduler,AutoencoderKL\n",
    "import torch\n",
    "from pytorch_lightning import seed_everything\n",
    "from PIL import Image\n",
    "from controlnet_aux import ZoeDetector\n"
   ]
  },
  {
   "cell_type": "code",
   "execution_count": 2,
   "id": "6b6dc69c-192d-4d74-8b1e-f0d9ccfbdb49",
   "metadata": {
    "ExecuteTime": {
     "end_time": "2024-11-04T10:17:21.126683Z",
     "start_time": "2024-11-04T10:17:21.120100Z"
    }
   },
   "outputs": [],
   "source": [
    "base_model_path = \"SG161222/Realistic_Vision_V5.1_noVAE\"\n",
    "vae_model_path = \"stabilityai/sd-vae-ft-mse\"\n",
    "controlnet_path = \"lllyasviel/control_v11f1p_sd15_depth\"\n",
    "depth_path = 'lllyasviel/Annotators'\n",
    "smart_ckpt = \"./depth.ckpt\"\n",
    "# negative_prompt_path = '/home/liuxiaoyu/compare/controlnet/realisticvision-negative-embedding'\n",
    "device = \"cuda\""
   ]
  },
  {
   "cell_type": "markdown",
   "id": "a73bf5d8",
   "metadata": {},
   "source": [
    "load pretrain model"
   ]
  },
  {
   "cell_type": "code",
   "execution_count": 3,
   "id": "63ec542f-8474-4f38-9457-073425578073",
   "metadata": {
    "ExecuteTime": {
     "end_time": "2024-11-04T10:19:25.754881Z",
     "start_time": "2024-11-04T10:19:22.772313Z"
    }
   },
   "outputs": [
    {
     "name": "stderr",
     "output_type": "stream",
     "text": [
      "Loading pipeline components...: 100%|██████████| 5/5 [00:03<00:00,  1.54it/s]\n"
     ]
    }
   ],
   "source": [
    "controlnet = ControlNetModel.from_pretrained(controlnet_path, torch_dtype=torch.float16)\n",
    "\n",
    "\n",
    "vae = AutoencoderKL.from_pretrained(vae_model_path).to(dtype=torch.float16)\n",
    "pipe = StableDiffusionControlNetPipeline.from_pretrained(\n",
    "    base_model_path, controlnet=controlnet,vae=vae, torch_dtype=torch.float16\n",
    ")\n",
    "\n",
    "pipe.scheduler = UniPCMultistepScheduler.from_config(pipe.scheduler.config)\n",
    "pipe.enable_model_cpu_offload()"
   ]
  },
  {
   "cell_type": "markdown",
   "id": "fed4baf0-eb72-47c6-8b5b-4046c7c7c72e",
   "metadata": {},
   "source": [
    "extract depth"
   ]
  },
  {
   "cell_type": "code",
   "execution_count": 8,
   "id": "3849f9d0-5f68-4a49-9190-69dd50720cae",
   "metadata": {
    "ExecuteTime": {
     "end_time": "2024-11-04T10:28:50.237985Z",
     "start_time": "2024-11-04T10:28:32.182752Z"
    }
   },
   "outputs": [
    {
     "name": "stderr",
     "output_type": "stream",
     "text": [
      "/workspace/Daewon/SmartControl/.venv/lib/python3.10/site-packages/controlnet_aux/zoe/__init__.py:32: FutureWarning: You are using `torch.load` with `weights_only=False` (the current default value), which uses the default pickle module implicitly. It is possible to construct malicious pickle data which will execute arbitrary code during unpickling (See https://github.com/pytorch/pytorch/blob/main/SECURITY.md#untrusted-models for more details). In a future release, the default value for `weights_only` will be flipped to `True`. This limits the functions that could be executed during unpickling. Arbitrary objects will no longer be allowed to be loaded via this mode unless they are explicitly allowlisted by the user via `torch.serialization.add_safe_globals`. We recommend you start setting `weights_only=True` for any use case where you don't have full control of the loaded file. Please open an issue on GitHub for any issues related to this experimental feature.\n",
      "  model.load_state_dict(torch.load(model_path, map_location=torch.device('cpu'))['model'])\n"
     ]
    }
   ],
   "source": [
    "import os\n",
    "\n",
    "preprocessor = ZoeDetector.from_pretrained(depth_path)\n",
    "\n",
    "def image_grid(imgs, rows, cols):\n",
    "    assert len(imgs) == rows*cols\n",
    "\n",
    "    w, h = imgs[0].size\n",
    "    grid = Image.new('RGB', size=(cols*w, rows*h))\n",
    "    grid_w, grid_h = grid.size\n",
    "\n",
    "    for i, img in enumerate(imgs):\n",
    "        grid.paste(img, box=(i%cols*w, i//cols*h))\n",
    "    return grid\n",
    "\n",
    "\n",
    "# image = Image.open(\"assets/images/deadlift.jpg\")\n",
    "# depth_map = preprocessor(image)\n",
    "# image_grid([image.resize((256, 256)), depth_map.resize((256, 256))], 1, 2)\n",
    "\n",
    "image = Image.open('assets/test/selected/shooting.png')\n",
    "depth_map = preprocessor(image)\n",
    "depth_map.save('daewon/shooting.png')\n"
   ]
  },
  {
   "cell_type": "markdown",
   "id": "5e103549",
   "metadata": {},
   "source": [
    "Forward"
   ]
  },
  {
   "cell_type": "code",
   "execution_count": null,
   "id": "42cd9556-988c-4a16-9408-17c8919d839c",
   "metadata": {
    "ExecuteTime": {
     "start_time": "2024-11-04T10:36:34.420Z"
    }
   },
   "outputs": [],
   "source": [
    "\n",
    "prompt = 'a superman doing squat'\n",
    "\n",
    "from smartcontrol import register_unet\n",
    "pipe = register_unet(pipe,smart_ckpt)\n",
    "\n",
    "seed_everything(42)\n",
    "output = pipe(\n",
    "    prompt=prompt,\n",
    "    image=depth_map,\n",
    "    # negative_prompt=negative_prompt_path,\n",
    "    controlnet_conditioning_scale = 0.25\n",
    "\n",
    ").images[0]\n",
    "\n",
    "image_grid([ depth_map.resize((256, 256)),output.resize((256,256))], 1, 2)\n"
   ]
  },
  {
   "cell_type": "code",
   "execution_count": null,
   "id": "c8306b6b",
   "metadata": {},
   "outputs": [],
   "source": []
  },
  {
   "cell_type": "code",
   "execution_count": null,
   "id": "95deef39",
   "metadata": {},
   "outputs": [],
   "source": []
  }
 ],
 "metadata": {
  "kernelspec": {
   "display_name": ".venv",
   "language": "python",
   "name": "python3"
  },
  "language_info": {
   "codemirror_mode": {
    "name": "ipython",
    "version": 3
   },
   "file_extension": ".py",
   "mimetype": "text/x-python",
   "name": "python",
   "nbconvert_exporter": "python",
   "pygments_lexer": "ipython3",
   "version": "3.10.12"
  },
  "toc": {
   "base_numbering": 1,
   "nav_menu": {},
   "number_sections": false,
   "sideBar": true,
   "skip_h1_title": false,
   "title_cell": "Table of Contents",
   "title_sidebar": "Contents",
   "toc_cell": false,
   "toc_position": {},
   "toc_section_display": true,
   "toc_window_display": false
  }
 },
 "nbformat": 4,
 "nbformat_minor": 5
}
